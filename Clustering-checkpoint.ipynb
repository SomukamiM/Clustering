{
 "cells": [
  {
   "cell_type": "markdown",
   "id": "9e1d28be",
   "metadata": {},
   "source": [
    "# Clustering\n",
    "Clustering is a Machine Learning technique that involves the grouping of data points. ... In theory, data points that are in the same group should have similar properties and/or features, while data points in different groups should have highly dissimilar properties and/or features\n"
   ]
  },
  {
   "cell_type": "markdown",
   "id": "26a66b87",
   "metadata": {},
   "source": [
    "# Clustering Methods :\n",
    "Density-Based Methods : These methods consider the clusters as the dense region having some similarity and different from the lower dense region of the space. These methods have good accuracy and ability to merge two clusters.Example DBSCAN (Density-Based Spatial Clustering of Applications with Noise) , OPTICS (Ordering Points to Identify Clustering Structure) etc.\n",
    "Hierarchical Based Methods : The clusters formed in this method forms a tree-type structure based on the hierarchy. New clusters are formed using the previously formed one. It is divided into two category Agglomerative (bottom up approach) Divisive (top down approach) examples CURE (Clustering Using Representatives), BIRCH (Balanced Iterative Reducing Clustering and using Hierarchies) etc.\n",
    "\n",
    "Partitioning Methods : These methods partition the objects into k clusters and each partition forms one cluster. This method is used to optimize an objective criterion similarity function such as when the distance is a major parameter example K-means, CLARANS (Clustering Large Applications based upon Randomized Search) etc.\n",
    "\n",
    "Grid-based Methods : In this method the data space is formulated into a finite number of cells that form a grid-like structure. All the clustering operation done on these grids are fast and independent of the number of data objects example STING (Statistical Information Grid), wave cluster, CLIQUE (CLustering In Quest) etc."
   ]
  },
  {
   "cell_type": "markdown",
   "id": "09e3b35d",
   "metadata": {},
   "source": [
    "# Applications of Clustering\n",
    "Recommendation engines\n",
    "Market segmentation\n",
    "Social network analysis\n",
    "Search result grouping\n",
    "Medical imaging\n",
    "Image segmentation\n",
    "Anomaly detection"
   ]
  },
  {
   "cell_type": "markdown",
   "id": "df3105ab",
   "metadata": {},
   "source": [
    "# Clustering using KMeans Algorithm\n",
    "Kmeans(Lloyd Forgy Algorithm) MiniBatchKmeans"
   ]
  },
  {
   "cell_type": "markdown",
   "id": "2c6082a9",
   "metadata": {},
   "source": [
    "### Benefits\n",
    "Fast and Scalable"
   ]
  },
  {
   "cell_type": "markdown",
   "id": "7c82fe3e",
   "metadata": {},
   "source": [
    "### Demerits\n",
    "Need to know th number of clusters\n",
    "Problem of having to pre-define the number of clusters.\n",
    "  * Elbow Method/Silhoutte Method\n",
    "  * Hierarchical Clustering:\n",
    "Varying sizes and different densities may affect performances scaling"
   ]
  },
  {
   "cell_type": "markdown",
   "id": "fc6e973b",
   "metadata": {},
   "source": [
    "### Terms\n",
    "k = number of clusters\n",
    ".label_: index of cluster\n",
    ".clustercenters: centroid\n",
    ".inertia_: performance metric of mean sq distance btwn each instance and its closest centroid\n",
    ".score:"
   ]
  },
  {
   "cell_type": "code",
   "execution_count": 1,
   "id": "bdd512d9",
   "metadata": {},
   "outputs": [],
   "source": [
    "import pandas as pd\n",
    "# Load Visualization\n",
    "import matplotlib.pyplot as plt\n",
    "import seaborn as sns\n",
    "%matplotlib inline"
   ]
  },
  {
   "cell_type": "code",
   "execution_count": 2,
   "id": "e3fa5bf9",
   "metadata": {},
   "outputs": [
    {
     "data": {
      "text/html": [
       "<div>\n",
       "<style scoped>\n",
       "    .dataframe tbody tr th:only-of-type {\n",
       "        vertical-align: middle;\n",
       "    }\n",
       "\n",
       "    .dataframe tbody tr th {\n",
       "        vertical-align: top;\n",
       "    }\n",
       "\n",
       "    .dataframe thead th {\n",
       "        text-align: right;\n",
       "    }\n",
       "</style>\n",
       "<table border=\"1\" class=\"dataframe\">\n",
       "  <thead>\n",
       "    <tr style=\"text-align: right;\">\n",
       "      <th></th>\n",
       "      <th>country</th>\n",
       "      <th>latitude</th>\n",
       "      <th>longitude</th>\n",
       "      <th>name</th>\n",
       "    </tr>\n",
       "  </thead>\n",
       "  <tbody>\n",
       "    <tr>\n",
       "      <th>0</th>\n",
       "      <td>AD</td>\n",
       "      <td>42.546245</td>\n",
       "      <td>1.601554</td>\n",
       "      <td>Andorra</td>\n",
       "    </tr>\n",
       "    <tr>\n",
       "      <th>1</th>\n",
       "      <td>AE</td>\n",
       "      <td>23.424076</td>\n",
       "      <td>53.847818</td>\n",
       "      <td>United Arab Emirates</td>\n",
       "    </tr>\n",
       "    <tr>\n",
       "      <th>2</th>\n",
       "      <td>AF</td>\n",
       "      <td>33.939110</td>\n",
       "      <td>67.709953</td>\n",
       "      <td>Afghanistan</td>\n",
       "    </tr>\n",
       "    <tr>\n",
       "      <th>3</th>\n",
       "      <td>AG</td>\n",
       "      <td>17.060816</td>\n",
       "      <td>-61.796428</td>\n",
       "      <td>Antigua and Barbuda</td>\n",
       "    </tr>\n",
       "    <tr>\n",
       "      <th>4</th>\n",
       "      <td>AI</td>\n",
       "      <td>18.220554</td>\n",
       "      <td>-63.068615</td>\n",
       "      <td>Anguilla</td>\n",
       "    </tr>\n",
       "  </tbody>\n",
       "</table>\n",
       "</div>"
      ],
      "text/plain": [
       "  country   latitude  longitude                  name\n",
       "0      AD  42.546245   1.601554               Andorra\n",
       "1      AE  23.424076  53.847818  United Arab Emirates\n",
       "2      AF  33.939110  67.709953           Afghanistan\n",
       "3      AG  17.060816 -61.796428   Antigua and Barbuda\n",
       "4      AI  18.220554 -63.068615              Anguilla"
      ]
     },
     "execution_count": 2,
     "metadata": {},
     "output_type": "execute_result"
    }
   ],
   "source": [
    "# Load Dataset\n",
    "df = pd.read_csv(\"countries.csv\")\n",
    "df.drop(['Unnamed: 0','Unnamed: 0.1'],axis=1,inplace =True)\n",
    "df.head()"
   ]
  },
  {
   "cell_type": "code",
   "execution_count": 3,
   "id": "7f1f25eb",
   "metadata": {},
   "outputs": [
    {
     "data": {
      "text/plain": [
       "country       object\n",
       "latitude     float64\n",
       "longitude    float64\n",
       "name          object\n",
       "dtype: object"
      ]
     },
     "execution_count": 3,
     "metadata": {},
     "output_type": "execute_result"
    }
   ],
   "source": [
    "# Check For Dtypes\n",
    "df.dtypes"
   ]
  },
  {
   "cell_type": "code",
   "execution_count": 4,
   "id": "dc6cf920",
   "metadata": {},
   "outputs": [
    {
     "data": {
      "text/plain": [
       "country      1\n",
       "latitude     1\n",
       "longitude    1\n",
       "name         0\n",
       "dtype: int64"
      ]
     },
     "execution_count": 4,
     "metadata": {},
     "output_type": "execute_result"
    }
   ],
   "source": [
    "# Check For Missing NAN\n",
    "df.isnull().sum()"
   ]
  },
  {
   "cell_type": "code",
   "execution_count": 5,
   "id": "2aaa890a",
   "metadata": {},
   "outputs": [],
   "source": [
    "# Drop Na\n",
    "df = df.dropna()"
   ]
  },
  {
   "cell_type": "code",
   "execution_count": 6,
   "id": "7fa7b9a4",
   "metadata": {},
   "outputs": [
    {
     "data": {
      "text/plain": [
       "Index(['country', 'latitude', 'longitude', 'name'], dtype='object')"
      ]
     },
     "execution_count": 6,
     "metadata": {},
     "output_type": "execute_result"
    }
   ],
   "source": [
    "# Columns Consistency\n",
    "df.columns"
   ]
  },
  {
   "cell_type": "code",
   "execution_count": 7,
   "id": "b1ecd7cd",
   "metadata": {},
   "outputs": [
    {
     "data": {
      "text/plain": [
       "<matplotlib.collections.PathCollection at 0x175cd96fac0>"
      ]
     },
     "execution_count": 7,
     "metadata": {},
     "output_type": "execute_result"
    },
    {
     "data": {
      "image/png": "[encoded data removed]",
      "text/plain": [
       "<Figure size 432x288 with 1 Axes>"
      ]
     },
     "metadata": {
      "needs_background": "light"
     },
     "output_type": "display_data"
    }
   ],
   "source": [
    "# Plot of our Countries \n",
    "plt.scatter(df['longitude'],df['latitude'])"
   ]
  },
  {
   "cell_type": "markdown",
   "id": "5cd9c842",
   "metadata": {},
   "source": [
    "# Kmeans\n",
    "1 To begin, we first select a number of classes/groups to use and randomly initialize their respective center points.\n",
    "2 Each data point is classified by computing the distance between that point and each group center, and then classifying the point to be in the group whose center is closest to it.\n",
    "3 Based on these classified points, we recompute the group center by taking the mean of all the vectors in the group.\n",
    "4 Repeat these steps for a set number of iterations or until the group centers don’t change much between iterations."
   ]
  },
  {
   "cell_type": "code",
   "execution_count": 8,
   "id": "6ef43156",
   "metadata": {},
   "outputs": [],
   "source": [
    "from sklearn.cluster import KMeans"
   ]
  },
  {
   "cell_type": "code",
   "execution_count": 9,
   "id": "72dbdbed",
   "metadata": {},
   "outputs": [],
   "source": [
    "# By Assumation we have 7 continents\n",
    "# k = 7\n",
    "km = KMeans(n_clusters=3)"
   ]
  },
  {
   "cell_type": "code",
   "execution_count": 10,
   "id": "68d29f5d",
   "metadata": {},
   "outputs": [],
   "source": [
    "# Prep\n",
    "xfeatures = df[['longitude','latitude']]"
   ]
  },
  {
   "cell_type": "code",
   "execution_count": 11,
   "id": "381752ef",
   "metadata": {},
   "outputs": [],
   "source": [
    "# Fit n Predict\n",
    "clusters = km.fit_predict(xfeatures)"
   ]
  },
  {
   "cell_type": "code",
   "execution_count": 12,
   "id": "dd8a2bc5",
   "metadata": {},
   "outputs": [
    {
     "data": {
      "text/plain": [
       "array([0, 0, 0, 1, 1, 0, 0, 1, 0, 0, 1, 1, 0, 2, 1, 0, 0, 1, 2, 0, 0, 0,\n",
       "       0, 0, 0, 1, 2, 1, 1, 1, 2, 0, 0, 0, 1, 1, 2, 0, 0, 0, 0, 0, 1, 1,\n",
       "       0, 2, 1, 1, 1, 0, 2, 0, 0, 0, 0, 0, 1, 1, 0, 1, 0, 0, 0, 0, 0, 0,\n",
       "       0, 2, 1, 2, 0, 0, 0, 0, 1, 0, 1, 0, 0, 0, 1, 0, 0, 1, 0, 0, 1, 1,\n",
       "       2, 0, 1, 0, 2, 2, 1, 0, 1, 0, 2, 0, 0, 0, 2, 2, 0, 0, 0, 0, 0, 1,\n",
       "       0, 2, 0, 0, 2, 1, 0, 1, 2, 2, 0, 1, 0, 2, 0, 1, 0, 2, 0, 0, 0, 0,\n",
       "       0, 0, 0, 0, 0, 0, 0, 2, 0, 0, 2, 2, 2, 2, 1, 0, 1, 0, 0, 2, 0, 1,\n",
       "       2, 0, 2, 0, 2, 0, 1, 0, 0, 2, 2, 1, 2, 0, 1, 1, 1, 2, 2, 0, 0, 1,\n",
       "       1, 1, 0, 0, 2, 1, 0, 0, 0, 0, 2, 0, 0, 2, 0, 0, 0, 2, 0, 0, 0, 0,\n",
       "       0, 0, 0, 0, 1, 0, 1, 0, 0, 1, 0, 2, 0, 2, 0, 1, 2, 0, 0, 1, 0, 1,\n",
       "       2, 2, 0, 0, 0, 1, 1, 0, 0, 1, 1, 1, 1, 2, 2, 1, 1, 0, 0, 0, 0, 0,\n",
       "       0])"
      ]
     },
     "execution_count": 12,
     "metadata": {},
     "output_type": "execute_result"
    }
   ],
   "source": [
    "# Get all the Labels(Clusters)\n",
    "km.labels_"
   ]
  },
  {
   "cell_type": "code",
   "execution_count": 13,
   "id": "d5895d94",
   "metadata": {},
   "outputs": [
    {
     "data": {
      "text/plain": [
       "array([0, 0, 0, 1, 1, 0, 0, 1, 0, 0, 1, 1, 0, 2, 1, 0, 0, 1, 2, 0, 0, 0,\n",
       "       0, 0, 0, 1, 2, 1, 1, 1, 2, 0, 0, 0, 1, 1, 2, 0, 0, 0, 0, 0, 1, 1,\n",
       "       0, 2, 1, 1, 1, 0, 2, 0, 0, 0, 0, 0, 1, 1, 0, 1, 0, 0, 0, 0, 0, 0,\n",
       "       0, 2, 1, 2, 0, 0, 0, 0, 1, 0, 1, 0, 0, 0, 1, 0, 0, 1, 0, 0, 1, 1,\n",
       "       2, 0, 1, 0, 2, 2, 1, 0, 1, 0, 2, 0, 0, 0, 2, 2, 0, 0, 0, 0, 0, 1,\n",
       "       0, 2, 0, 0, 2, 1, 0, 1, 2, 2, 0, 1, 0, 2, 0, 1, 0, 2, 0, 0, 0, 0,\n",
       "       0, 0, 0, 0, 0, 0, 0, 2, 0, 0, 2, 2, 2, 2, 1, 0, 1, 0, 0, 2, 0, 1,\n",
       "       2, 0, 2, 0, 2, 0, 1, 0, 0, 2, 2, 1, 2, 0, 1, 1, 1, 2, 2, 0, 0, 1,\n",
       "       1, 1, 0, 0, 2, 1, 0, 0, 0, 0, 2, 0, 0, 2, 0, 0, 0, 2, 0, 0, 0, 0,\n",
       "       0, 0, 0, 0, 1, 0, 1, 0, 0, 1, 0, 2, 0, 2, 0, 1, 2, 0, 0, 1, 0, 1,\n",
       "       2, 2, 0, 0, 0, 1, 1, 0, 0, 1, 1, 1, 1, 2, 2, 1, 1, 0, 0, 0, 0, 0,\n",
       "       0])"
      ]
     },
     "execution_count": 13,
     "metadata": {},
     "output_type": "execute_result"
    }
   ],
   "source": [
    "clusters"
   ]
  },
  {
   "cell_type": "code",
   "execution_count": 14,
   "id": "34f5edec",
   "metadata": {},
   "outputs": [
    {
     "data": {
      "text/plain": [
       "True"
      ]
     },
     "execution_count": 14,
     "metadata": {},
     "output_type": "execute_result"
    }
   ],
   "source": [
    "# Check if predicted clusters is the same as our labels\n",
    "clusters is km.labels_"
   ]
  },
  {
   "cell_type": "code",
   "execution_count": 15,
   "id": "f90181cc",
   "metadata": {},
   "outputs": [
    {
     "data": {
      "text/plain": [
       "array([[ 21.58809362,  24.84002418],\n",
       "       [-84.48496644,   5.67121831],\n",
       "       [120.63303011,   6.16733752]])"
      ]
     },
     "execution_count": 15,
     "metadata": {},
     "output_type": "execute_result"
    }
   ],
   "source": [
    "# Centroid/Center\n",
    "km.cluster_centers_"
   ]
  },
  {
   "cell_type": "code",
   "execution_count": 16,
   "id": "16ae8737",
   "metadata": {},
   "outputs": [
    {
     "data": {
      "text/html": [
       "<div>\n",
       "<style scoped>\n",
       "    .dataframe tbody tr th:only-of-type {\n",
       "        vertical-align: middle;\n",
       "    }\n",
       "\n",
       "    .dataframe tbody tr th {\n",
       "        vertical-align: top;\n",
       "    }\n",
       "\n",
       "    .dataframe thead th {\n",
       "        text-align: right;\n",
       "    }\n",
       "</style>\n",
       "<table border=\"1\" class=\"dataframe\">\n",
       "  <thead>\n",
       "    <tr style=\"text-align: right;\">\n",
       "      <th></th>\n",
       "      <th>country</th>\n",
       "      <th>latitude</th>\n",
       "      <th>longitude</th>\n",
       "      <th>name</th>\n",
       "      <th>cluster_continents</th>\n",
       "    </tr>\n",
       "  </thead>\n",
       "  <tbody>\n",
       "    <tr>\n",
       "      <th>0</th>\n",
       "      <td>AD</td>\n",
       "      <td>42.546245</td>\n",
       "      <td>1.601554</td>\n",
       "      <td>Andorra</td>\n",
       "      <td>0</td>\n",
       "    </tr>\n",
       "    <tr>\n",
       "      <th>1</th>\n",
       "      <td>AE</td>\n",
       "      <td>23.424076</td>\n",
       "      <td>53.847818</td>\n",
       "      <td>United Arab Emirates</td>\n",
       "      <td>0</td>\n",
       "    </tr>\n",
       "    <tr>\n",
       "      <th>2</th>\n",
       "      <td>AF</td>\n",
       "      <td>33.939110</td>\n",
       "      <td>67.709953</td>\n",
       "      <td>Afghanistan</td>\n",
       "      <td>0</td>\n",
       "    </tr>\n",
       "    <tr>\n",
       "      <th>3</th>\n",
       "      <td>AG</td>\n",
       "      <td>17.060816</td>\n",
       "      <td>-61.796428</td>\n",
       "      <td>Antigua and Barbuda</td>\n",
       "      <td>1</td>\n",
       "    </tr>\n",
       "    <tr>\n",
       "      <th>4</th>\n",
       "      <td>AI</td>\n",
       "      <td>18.220554</td>\n",
       "      <td>-63.068615</td>\n",
       "      <td>Anguilla</td>\n",
       "      <td>1</td>\n",
       "    </tr>\n",
       "    <tr>\n",
       "      <th>5</th>\n",
       "      <td>AL</td>\n",
       "      <td>41.153332</td>\n",
       "      <td>20.168331</td>\n",
       "      <td>Albania</td>\n",
       "      <td>0</td>\n",
       "    </tr>\n",
       "    <tr>\n",
       "      <th>6</th>\n",
       "      <td>AM</td>\n",
       "      <td>40.069099</td>\n",
       "      <td>45.038189</td>\n",
       "      <td>Armenia</td>\n",
       "      <td>0</td>\n",
       "    </tr>\n",
       "    <tr>\n",
       "      <th>7</th>\n",
       "      <td>AN</td>\n",
       "      <td>12.226079</td>\n",
       "      <td>-69.060087</td>\n",
       "      <td>Netherlands Antilles</td>\n",
       "      <td>1</td>\n",
       "    </tr>\n",
       "    <tr>\n",
       "      <th>8</th>\n",
       "      <td>AO</td>\n",
       "      <td>-11.202692</td>\n",
       "      <td>17.873887</td>\n",
       "      <td>Angola</td>\n",
       "      <td>0</td>\n",
       "    </tr>\n",
       "    <tr>\n",
       "      <th>9</th>\n",
       "      <td>AQ</td>\n",
       "      <td>-75.250973</td>\n",
       "      <td>-0.071389</td>\n",
       "      <td>Antarctica</td>\n",
       "      <td>0</td>\n",
       "    </tr>\n",
       "    <tr>\n",
       "      <th>10</th>\n",
       "      <td>AR</td>\n",
       "      <td>-38.416097</td>\n",
       "      <td>-63.616672</td>\n",
       "      <td>Argentina</td>\n",
       "      <td>1</td>\n",
       "    </tr>\n",
       "    <tr>\n",
       "      <th>11</th>\n",
       "      <td>AS</td>\n",
       "      <td>-14.270972</td>\n",
       "      <td>-170.132217</td>\n",
       "      <td>American Samoa</td>\n",
       "      <td>1</td>\n",
       "    </tr>\n",
       "    <tr>\n",
       "      <th>12</th>\n",
       "      <td>AT</td>\n",
       "      <td>47.516231</td>\n",
       "      <td>14.550072</td>\n",
       "      <td>Austria</td>\n",
       "      <td>0</td>\n",
       "    </tr>\n",
       "    <tr>\n",
       "      <th>13</th>\n",
       "      <td>AU</td>\n",
       "      <td>-25.274398</td>\n",
       "      <td>133.775136</td>\n",
       "      <td>Australia</td>\n",
       "      <td>2</td>\n",
       "    </tr>\n",
       "    <tr>\n",
       "      <th>14</th>\n",
       "      <td>AW</td>\n",
       "      <td>12.521110</td>\n",
       "      <td>-69.968338</td>\n",
       "      <td>Aruba</td>\n",
       "      <td>1</td>\n",
       "    </tr>\n",
       "    <tr>\n",
       "      <th>15</th>\n",
       "      <td>AZ</td>\n",
       "      <td>40.143105</td>\n",
       "      <td>47.576927</td>\n",
       "      <td>Azerbaijan</td>\n",
       "      <td>0</td>\n",
       "    </tr>\n",
       "    <tr>\n",
       "      <th>16</th>\n",
       "      <td>BA</td>\n",
       "      <td>43.915886</td>\n",
       "      <td>17.679076</td>\n",
       "      <td>Bosnia and Herzegovina</td>\n",
       "      <td>0</td>\n",
       "    </tr>\n",
       "    <tr>\n",
       "      <th>17</th>\n",
       "      <td>BB</td>\n",
       "      <td>13.193887</td>\n",
       "      <td>-59.543198</td>\n",
       "      <td>Barbados</td>\n",
       "      <td>1</td>\n",
       "    </tr>\n",
       "    <tr>\n",
       "      <th>18</th>\n",
       "      <td>BD</td>\n",
       "      <td>23.684994</td>\n",
       "      <td>90.356331</td>\n",
       "      <td>Bangladesh</td>\n",
       "      <td>2</td>\n",
       "    </tr>\n",
       "    <tr>\n",
       "      <th>19</th>\n",
       "      <td>BE</td>\n",
       "      <td>50.503887</td>\n",
       "      <td>4.469936</td>\n",
       "      <td>Belgium</td>\n",
       "      <td>0</td>\n",
       "    </tr>\n",
       "    <tr>\n",
       "      <th>20</th>\n",
       "      <td>BF</td>\n",
       "      <td>12.238333</td>\n",
       "      <td>-1.561593</td>\n",
       "      <td>Burkina Faso</td>\n",
       "      <td>0</td>\n",
       "    </tr>\n",
       "    <tr>\n",
       "      <th>21</th>\n",
       "      <td>BG</td>\n",
       "      <td>42.733883</td>\n",
       "      <td>25.485830</td>\n",
       "      <td>Bulgaria</td>\n",
       "      <td>0</td>\n",
       "    </tr>\n",
       "    <tr>\n",
       "      <th>22</th>\n",
       "      <td>BH</td>\n",
       "      <td>25.930414</td>\n",
       "      <td>50.637772</td>\n",
       "      <td>Bahrain</td>\n",
       "      <td>0</td>\n",
       "    </tr>\n",
       "    <tr>\n",
       "      <th>23</th>\n",
       "      <td>BI</td>\n",
       "      <td>-3.373056</td>\n",
       "      <td>29.918886</td>\n",
       "      <td>Burundi</td>\n",
       "      <td>0</td>\n",
       "    </tr>\n",
       "    <tr>\n",
       "      <th>24</th>\n",
       "      <td>BJ</td>\n",
       "      <td>9.307690</td>\n",
       "      <td>2.315834</td>\n",
       "      <td>Benin</td>\n",
       "      <td>0</td>\n",
       "    </tr>\n",
       "  </tbody>\n",
       "</table>\n",
       "</div>"
      ],
      "text/plain": [
       "   country   latitude   longitude                    name  cluster_continents\n",
       "0       AD  42.546245    1.601554                 Andorra                   0\n",
       "1       AE  23.424076   53.847818    United Arab Emirates                   0\n",
       "2       AF  33.939110   67.709953             Afghanistan                   0\n",
       "3       AG  17.060816  -61.796428     Antigua and Barbuda                   1\n",
       "4       AI  18.220554  -63.068615                Anguilla                   1\n",
       "5       AL  41.153332   20.168331                 Albania                   0\n",
       "6       AM  40.069099   45.038189                 Armenia                   0\n",
       "7       AN  12.226079  -69.060087    Netherlands Antilles                   1\n",
       "8       AO -11.202692   17.873887                  Angola                   0\n",
       "9       AQ -75.250973   -0.071389              Antarctica                   0\n",
       "10      AR -38.416097  -63.616672               Argentina                   1\n",
       "11      AS -14.270972 -170.132217          American Samoa                   1\n",
       "12      AT  47.516231   14.550072                 Austria                   0\n",
       "13      AU -25.274398  133.775136               Australia                   2\n",
       "14      AW  12.521110  -69.968338                   Aruba                   1\n",
       "15      AZ  40.143105   47.576927              Azerbaijan                   0\n",
       "16      BA  43.915886   17.679076  Bosnia and Herzegovina                   0\n",
       "17      BB  13.193887  -59.543198                Barbados                   1\n",
       "18      BD  23.684994   90.356331              Bangladesh                   2\n",
       "19      BE  50.503887    4.469936                 Belgium                   0\n",
       "20      BF  12.238333   -1.561593            Burkina Faso                   0\n",
       "21      BG  42.733883   25.485830                Bulgaria                   0\n",
       "22      BH  25.930414   50.637772                 Bahrain                   0\n",
       "23      BI  -3.373056   29.918886                 Burundi                   0\n",
       "24      BJ   9.307690    2.315834                   Benin                   0"
      ]
     },
     "execution_count": 16,
     "metadata": {},
     "output_type": "execute_result"
    }
   ],
   "source": [
    "# Store and Map\n",
    "df['cluster_continents'] = clusters\n",
    "df.head(25)"
   ]
  },
  {
   "cell_type": "code",
   "execution_count": 17,
   "id": "d7a3582f",
   "metadata": {},
   "outputs": [
    {
     "data": {
      "text/plain": [
       "<matplotlib.collections.PathCollection at 0x175cf8db970>"
      ]
     },
     "execution_count": 17,
     "metadata": {},
     "output_type": "execute_result"
    },
    {
     "data": {
      "image/png": "[encoded data removed]",
      "text/plain": [
       "<Figure size 432x288 with 1 Axes>"
      ]
     },
     "metadata": {
      "needs_background": "light"
     },
     "output_type": "display_data"
    }
   ],
   "source": [
    "# Plot of our clusters\n",
    "plt.scatter(df['longitude'],df['latitude'],c=df['cluster_continents'],cmap='rainbow')"
   ]
  },
  {
   "cell_type": "code",
   "execution_count": 18,
   "id": "32ff0d86",
   "metadata": {},
   "outputs": [
    {
     "name": "stderr",
     "output_type": "stream",
     "text": [
      "C:\\Users\\user\\anaconda3\\lib\\site-packages\\sklearn\\cluster\\_kmeans.py:881: UserWarning: KMeans is known to have a memory leak on Windows with MKL, when there are less chunks than available threads. You can avoid it by setting the environment variable OMP_NUM_THREADS=1.\n",
      "  warnings.warn(\n"
     ]
    },
    {
     "data": {
      "image/png": "[encoded data removed]",
      "text/plain": [
       "<Figure size 432x288 with 1 Axes>"
      ]
     },
     "metadata": {
      "needs_background": "light"
     },
     "output_type": "display_data"
    }
   ],
   "source": [
    "from sklearn.cluster import KMeans\n",
    "\n",
    "wcss = []\n",
    "for i in range(1, 11):\n",
    "    km = KMeans(n_clusters = i, init = 'k-means++', max_iter = 300, n_init = 10, random_state = 0)\n",
    "    km.fit(xfeatures)\n",
    "    wcss.append(km.inertia_)\n",
    "    \n",
    "plt.plot(range(1, 11), wcss)\n",
    "plt.title('The Elbow Method', fontsize = 20)\n",
    "plt.xlabel('No. of Clusters')\n",
    "plt.ylabel('wcss')\n",
    "plt.show()"
   ]
  },
  {
   "cell_type": "markdown",
   "id": "64e0cdab",
   "metadata": {},
   "source": [
    "# Hierarchical Clustering\n",
    "Hierarchical clustering is a type of unsupervised machine learning algorithm used to cluster unlabeled data points.\n",
    "Hierarchical clustering also groups together the data points with similar characteristics.\n",
    "Agglomerative clustering involves merging examples until the desired number of clusters is achieved.\n",
    "\n",
    "Types of clustering\n",
    "\n",
    "There are two types of hierarchical clustering: Agglomerative and Divisive.\n",
    "Agglomerative Data points are clustered using a bottom-up approach starting with individual data points,\n",
    "Divisive top-down approach is followed where all the data points are treated as one big cluster and the clustering process involves dividing the one big cluster into several small clusters\n",
    "focus on agglomerative clustering that involves the bottom-up approach.\n",
    "\n",
    "Steps to Perform Hierarchical Clustering\n",
    "\n",
    "At the start, treat each data point as one cluster. Therefore, the number of clusters at the start will be K, while K is an integer representing the number of data points.\n",
    "Form a cluster by joining the two closest data points resulting in K-1 clusters.\n",
    "Form more clusters by joining the two closest clusters resulting in K-2 clusters.\n",
    "Repeat the above three steps until one big cluster is formed.\n",
    "Once single cluster is formed, dendrograms are used to divide into multiple clusters depending upon the problem. We will study the concept of dendrogram in detail in an upcoming section."
   ]
  },
  {
   "cell_type": "code",
   "execution_count": 19,
   "id": "d3bd433b",
   "metadata": {},
   "outputs": [
    {
     "data": {
      "text/plain": [
       "array([[ 5,  3],\n",
       "       [10, 15],\n",
       "       [15, 12],\n",
       "       [24, 10],\n",
       "       [30, 30],\n",
       "       [85, 70],\n",
       "       [71, 80],\n",
       "       [60, 78],\n",
       "       [70, 55],\n",
       "       [80, 91]])"
      ]
     },
     "execution_count": 19,
     "metadata": {},
     "output_type": "execute_result"
    }
   ],
   "source": [
    "import numpy as np\n",
    "\n",
    "X = np.array([[5,3],\n",
    "    [10,15],\n",
    "    [15,12],\n",
    "    [24,10],\n",
    "    [30,30],\n",
    "    [85,70],\n",
    "    [71,80],\n",
    "    [60,78],\n",
    "    [70,55],\n",
    "    [80,91],])\n",
    "\n",
    "X"
   ]
  },
  {
   "cell_type": "code",
   "execution_count": 20,
   "id": "7f1a42f9",
   "metadata": {},
   "outputs": [
    {
     "data": {
      "image/png": "[encoded data removed]",
      "text/plain": [
       "<Figure size 720x504 with 1 Axes>"
      ]
     },
     "metadata": {
      "needs_background": "light"
     },
     "output_type": "display_data"
    }
   ],
   "source": [
    "import matplotlib.pyplot as plt\n",
    "\n",
    "labels = range(1, 11)\n",
    "plt.figure(figsize=(10, 7))\n",
    "plt.subplots_adjust(bottom=0.1)\n",
    "plt.scatter(X[:,0],X[:,1], label='True Position')\n",
    "\n",
    "for label, x, y in zip(labels, X[:, 0], X[:, 1]):\n",
    "    plt.annotate(\n",
    "        label,\n",
    "        xy=(x, y), xytext=(-3, 3),\n",
    "        textcoords='offset points', ha='right', va='bottom')\n",
    "plt.show()"
   ]
  },
  {
   "cell_type": "code",
   "execution_count": 21,
   "id": "9f16bed1",
   "metadata": {},
   "outputs": [
    {
     "data": {
      "image/png": "[encoded data removed]",
      "text/plain": [
       "<Figure size 720x504 with 1 Axes>"
      ]
     },
     "metadata": {
      "needs_background": "light"
     },
     "output_type": "display_data"
    }
   ],
   "source": [
    "from scipy.cluster.hierarchy import dendrogram, linkage\n",
    "from matplotlib import pyplot as plt\n",
    "\n",
    "linked = linkage(X, 'single')\n",
    "\n",
    "labelList = range(1, 11)\n",
    "\n",
    "plt.figure(figsize=(10, 7))\n",
    "dendrogram(linked,\n",
    "            orientation='top',\n",
    "            labels=labelList,\n",
    "            distance_sort='descending',\n",
    "            show_leaf_counts=True)\n",
    "plt.show()"
   ]
  },
  {
   "cell_type": "markdown",
   "id": "f724e661",
   "metadata": {},
   "source": [
    "# Hierarchical Clustering via Scikit-Learn"
   ]
  },
  {
   "cell_type": "code",
   "execution_count": 22,
   "id": "f47870cd",
   "metadata": {},
   "outputs": [],
   "source": [
    "import matplotlib.pyplot as plt\n",
    "import pandas as pd\n",
    "%matplotlib inline\n",
    "import numpy as np"
   ]
  },
  {
   "cell_type": "code",
   "execution_count": 24,
   "id": "45dce882",
   "metadata": {},
   "outputs": [
    {
     "data": {
      "text/html": [
       "<div>\n",
       "<style scoped>\n",
       "    .dataframe tbody tr th:only-of-type {\n",
       "        vertical-align: middle;\n",
       "    }\n",
       "\n",
       "    .dataframe tbody tr th {\n",
       "        vertical-align: top;\n",
       "    }\n",
       "\n",
       "    .dataframe thead th {\n",
       "        text-align: right;\n",
       "    }\n",
       "</style>\n",
       "<table border=\"1\" class=\"dataframe\">\n",
       "  <thead>\n",
       "    <tr style=\"text-align: right;\">\n",
       "      <th></th>\n",
       "      <th>CustomerID</th>\n",
       "      <th>Genre</th>\n",
       "      <th>Age</th>\n",
       "      <th>Annual Income (k$)</th>\n",
       "      <th>Spending Score (1-100)</th>\n",
       "    </tr>\n",
       "  </thead>\n",
       "  <tbody>\n",
       "    <tr>\n",
       "      <th>0</th>\n",
       "      <td>1</td>\n",
       "      <td>Male</td>\n",
       "      <td>19</td>\n",
       "      <td>15</td>\n",
       "      <td>39</td>\n",
       "    </tr>\n",
       "    <tr>\n",
       "      <th>1</th>\n",
       "      <td>2</td>\n",
       "      <td>Male</td>\n",
       "      <td>21</td>\n",
       "      <td>15</td>\n",
       "      <td>81</td>\n",
       "    </tr>\n",
       "    <tr>\n",
       "      <th>2</th>\n",
       "      <td>3</td>\n",
       "      <td>Female</td>\n",
       "      <td>20</td>\n",
       "      <td>16</td>\n",
       "      <td>6</td>\n",
       "    </tr>\n",
       "    <tr>\n",
       "      <th>3</th>\n",
       "      <td>4</td>\n",
       "      <td>Female</td>\n",
       "      <td>23</td>\n",
       "      <td>16</td>\n",
       "      <td>77</td>\n",
       "    </tr>\n",
       "    <tr>\n",
       "      <th>4</th>\n",
       "      <td>5</td>\n",
       "      <td>Female</td>\n",
       "      <td>31</td>\n",
       "      <td>17</td>\n",
       "      <td>40</td>\n",
       "    </tr>\n",
       "    <tr>\n",
       "      <th>...</th>\n",
       "      <td>...</td>\n",
       "      <td>...</td>\n",
       "      <td>...</td>\n",
       "      <td>...</td>\n",
       "      <td>...</td>\n",
       "    </tr>\n",
       "    <tr>\n",
       "      <th>195</th>\n",
       "      <td>196</td>\n",
       "      <td>Female</td>\n",
       "      <td>35</td>\n",
       "      <td>120</td>\n",
       "      <td>79</td>\n",
       "    </tr>\n",
       "    <tr>\n",
       "      <th>196</th>\n",
       "      <td>197</td>\n",
       "      <td>Female</td>\n",
       "      <td>45</td>\n",
       "      <td>126</td>\n",
       "      <td>28</td>\n",
       "    </tr>\n",
       "    <tr>\n",
       "      <th>197</th>\n",
       "      <td>198</td>\n",
       "      <td>Male</td>\n",
       "      <td>32</td>\n",
       "      <td>126</td>\n",
       "      <td>74</td>\n",
       "    </tr>\n",
       "    <tr>\n",
       "      <th>198</th>\n",
       "      <td>199</td>\n",
       "      <td>Male</td>\n",
       "      <td>32</td>\n",
       "      <td>137</td>\n",
       "      <td>18</td>\n",
       "    </tr>\n",
       "    <tr>\n",
       "      <th>199</th>\n",
       "      <td>200</td>\n",
       "      <td>Male</td>\n",
       "      <td>30</td>\n",
       "      <td>137</td>\n",
       "      <td>83</td>\n",
       "    </tr>\n",
       "  </tbody>\n",
       "</table>\n",
       "<p>200 rows × 5 columns</p>\n",
       "</div>"
      ],
      "text/plain": [
       "     CustomerID   Genre  Age  Annual Income (k$)  Spending Score (1-100)\n",
       "0             1    Male   19                  15                      39\n",
       "1             2    Male   21                  15                      81\n",
       "2             3  Female   20                  16                       6\n",
       "3             4  Female   23                  16                      77\n",
       "4             5  Female   31                  17                      40\n",
       "..          ...     ...  ...                 ...                     ...\n",
       "195         196  Female   35                 120                      79\n",
       "196         197  Female   45                 126                      28\n",
       "197         198    Male   32                 126                      74\n",
       "198         199    Male   32                 137                      18\n",
       "199         200    Male   30                 137                      83\n",
       "\n",
       "[200 rows x 5 columns]"
      ]
     },
     "execution_count": 24,
     "metadata": {},
     "output_type": "execute_result"
    }
   ],
   "source": [
    "customer_data = pd.read_csv('shop.csv')\n",
    "customer_data"
   ]
  },
  {
   "cell_type": "code",
   "execution_count": 25,
   "id": "13aee2e7",
   "metadata": {},
   "outputs": [
    {
     "data": {
      "text/plain": [
       "(200, 5)"
      ]
     },
     "execution_count": 25,
     "metadata": {},
     "output_type": "execute_result"
    }
   ],
   "source": [
    "customer_data.shape"
   ]
  },
  {
   "cell_type": "code",
   "execution_count": 26,
   "id": "a3ce7ab8",
   "metadata": {},
   "outputs": [
    {
     "data": {
      "text/plain": [
       "array([15, 39], dtype=int64)"
      ]
     },
     "execution_count": 26,
     "metadata": {},
     "output_type": "execute_result"
    }
   ],
   "source": [
    "data = customer_data.iloc[:, 3:5].values\n",
    "data[0]"
   ]
  },
  {
   "cell_type": "code",
   "execution_count": 27,
   "id": "d4f9287b",
   "metadata": {},
   "outputs": [
    {
     "data": {
      "image/png": "[encoded data removed]",
      "text/plain": [
       "<Figure size 720x504 with 1 Axes>"
      ]
     },
     "metadata": {
      "needs_background": "light"
     },
     "output_type": "display_data"
    }
   ],
   "source": [
    "import scipy.cluster.hierarchy as shc\n",
    "\n",
    "plt.figure(figsize=(10, 7))\n",
    "plt.title(\"Customer Dendograms\")\n",
    "dend = shc.dendrogram(shc.linkage(data, method='ward'))"
   ]
  },
  {
   "cell_type": "code",
   "execution_count": 28,
   "id": "b77186fe",
   "metadata": {},
   "outputs": [
    {
     "data": {
      "text/plain": [
       "array([4, 3, 4, 3, 4, 3, 4, 3, 4, 3, 4, 3, 4, 3, 4, 3, 4, 3, 4, 3, 4, 3,\n",
       "       4, 3, 4, 3, 4, 3, 4, 3, 4, 3, 4, 3, 4, 3, 4, 3, 4, 3, 4, 3, 4, 1,\n",
       "       4, 1, 1, 1, 1, 1, 1, 1, 1, 1, 1, 1, 1, 1, 1, 1, 1, 1, 1, 1, 1, 1,\n",
       "       1, 1, 1, 1, 1, 1, 1, 1, 1, 1, 1, 1, 1, 1, 1, 1, 1, 1, 1, 1, 1, 1,\n",
       "       1, 1, 1, 1, 1, 1, 1, 1, 1, 1, 1, 1, 1, 1, 1, 1, 1, 1, 1, 1, 1, 1,\n",
       "       1, 1, 1, 1, 1, 1, 1, 1, 1, 1, 1, 1, 1, 2, 1, 2, 1, 2, 0, 2, 0, 2,\n",
       "       1, 2, 0, 2, 0, 2, 0, 2, 0, 2, 1, 2, 0, 2, 1, 2, 0, 2, 0, 2, 0, 2,\n",
       "       0, 2, 0, 2, 0, 2, 1, 2, 0, 2, 0, 2, 0, 2, 0, 2, 0, 2, 0, 2, 0, 2,\n",
       "       0, 2, 0, 2, 0, 2, 0, 2, 0, 2, 0, 2, 0, 2, 0, 2, 0, 2, 0, 2, 0, 2,\n",
       "       0, 2], dtype=int64)"
      ]
     },
     "execution_count": 28,
     "metadata": {},
     "output_type": "execute_result"
    }
   ],
   "source": [
    "from sklearn.cluster import AgglomerativeClustering\n",
    "\n",
    "cluster = AgglomerativeClustering(n_clusters=5, affinity='euclidean', linkage='ward')\n",
    "cluster.fit_predict(data)"
   ]
  },
  {
   "cell_type": "code",
   "execution_count": 29,
   "id": "7e2b0918",
   "metadata": {},
   "outputs": [
    {
     "data": {
      "text/plain": [
       "<matplotlib.collections.PathCollection at 0x175d0379640>"
      ]
     },
     "execution_count": 29,
     "metadata": {},
     "output_type": "execute_result"
    },
    {
     "data": {
      "image/png": "[encoded data removed]",
      "text/plain": [
       "<Figure size 720x504 with 1 Axes>"
      ]
     },
     "metadata": {
      "needs_background": "light"
     },
     "output_type": "display_data"
    }
   ],
   "source": [
    "plt.figure(figsize=(10, 7))\n",
    "plt.scatter(data[:,0], data[:,1], c=cluster.labels_, cmap='rainbow')"
   ]
  },
  {
   "cell_type": "code",
   "execution_count": null,
   "id": "3684473a",
   "metadata": {},
   "outputs": [],
   "source": []
  }
 ],
 "metadata": {
  "kernelspec": {
   "display_name": "Python 3",
   "language": "python",
   "name": "python3"
  },
  "language_info": {
   "codemirror_mode": {
    "name": "ipython",
    "version": 3
   },
   "file_extension": ".py",
   "mimetype": "text/x-python",
   "name": "python",
   "nbconvert_exporter": "python",
   "pygments_lexer": "ipython3",
   "version": "3.8.8"
  }
 },
 "nbformat": 4,
 "nbformat_minor": 5
}
